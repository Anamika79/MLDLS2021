{
  "nbformat": 4,
  "nbformat_minor": 0,
  "metadata": {
    "colab": {
      "name": "Glass.ipynb",
      "provenance": [],
      "collapsed_sections": [],
      "authorship_tag": "ABX9TyMQeNRn8MTBRsbpJRDcY97a",
      "include_colab_link": true
    },
    "kernelspec": {
      "name": "python3",
      "display_name": "Python 3"
    },
    "language_info": {
      "name": "python"
    }
  },
  "cells": [
    {
      "cell_type": "markdown",
      "metadata": {
        "id": "view-in-github",
        "colab_type": "text"
      },
      "source": [
        "<a href=\"https://colab.research.google.com/github/Anamika79/MLDLS2021/blob/main/Glass.ipynb\" target=\"_parent\"><img src=\"https://colab.research.google.com/assets/colab-badge.svg\" alt=\"Open In Colab\"/></a>"
      ]
    },
    {
      "cell_type": "code",
      "metadata": {
        "id": "4cnIWL3wsins"
      },
      "source": [
        "import numpy as np\n",
        "import pandas as pd"
      ],
      "execution_count": 1,
      "outputs": []
    },
    {
      "cell_type": "code",
      "metadata": {
        "colab": {
          "base_uri": "https://localhost:8080/"
        },
        "id": "4cQBuygHsrCj",
        "outputId": "f869447b-62c9-453d-c2d5-a0b7207e2309"
      },
      "source": [
        "dataset = pd.read_csv('glass.csv')\n",
        "print(dataset)"
      ],
      "execution_count": 2,
      "outputs": [
        {
          "output_type": "stream",
          "text": [
            "          RI     Na    Mg    Al     Si     K    Ca    Ba   Fe  Type\n",
            "0    1.52101  13.64  4.49  1.10  71.78  0.06  8.75  0.00  0.0     1\n",
            "1    1.51761  13.89  3.60  1.36  72.73  0.48  7.83  0.00  0.0     1\n",
            "2    1.51618  13.53  3.55  1.54  72.99  0.39  7.78  0.00  0.0     1\n",
            "3    1.51766  13.21  3.69  1.29  72.61  0.57  8.22  0.00  0.0     1\n",
            "4    1.51742  13.27  3.62  1.24  73.08  0.55  8.07  0.00  0.0     1\n",
            "..       ...    ...   ...   ...    ...   ...   ...   ...  ...   ...\n",
            "209  1.51623  14.14  0.00  2.88  72.61  0.08  9.18  1.06  0.0     7\n",
            "210  1.51685  14.92  0.00  1.99  73.06  0.00  8.40  1.59  0.0     7\n",
            "211  1.52065  14.36  0.00  2.02  73.42  0.00  8.44  1.64  0.0     7\n",
            "212  1.51651  14.38  0.00  1.94  73.61  0.00  8.48  1.57  0.0     7\n",
            "213  1.51711  14.23  0.00  2.08  73.36  0.00  8.62  1.67  0.0     7\n",
            "\n",
            "[214 rows x 10 columns]\n"
          ],
          "name": "stdout"
        }
      ]
    },
    {
      "cell_type": "code",
      "metadata": {
        "id": "Ne6fqOoVsvGB"
      },
      "source": [
        "X = dataset.iloc[:,0:8].values\n",
        "Y = dataset.iloc[:,-1].values"
      ],
      "execution_count": 3,
      "outputs": []
    },
    {
      "cell_type": "code",
      "metadata": {
        "colab": {
          "base_uri": "https://localhost:8080/"
        },
        "id": "mcNxFOCNsvjP",
        "outputId": "ac11333c-7008-4d04-e140-4ca51ef287fd"
      },
      "source": [
        "print(X.shape, Y.shape)"
      ],
      "execution_count": 4,
      "outputs": [
        {
          "output_type": "stream",
          "text": [
            "(214, 8) (214,)\n"
          ],
          "name": "stdout"
        }
      ]
    },
    {
      "cell_type": "code",
      "metadata": {
        "colab": {
          "base_uri": "https://localhost:8080/"
        },
        "id": "tq8CiirSsv4V",
        "outputId": "a2ce69df-6fc2-485d-f1dd-4ea589ac9423"
      },
      "source": [
        "from sklearn.model_selection import train_test_split\n",
        "X_train, X_test, Y_train, Y_test = train_test_split(X, Y, test_size = 0.2)\n",
        "print(X_train.shape, X_test.shape)"
      ],
      "execution_count": 5,
      "outputs": [
        {
          "output_type": "stream",
          "text": [
            "(171, 8) (43, 8)\n"
          ],
          "name": "stdout"
        }
      ]
    },
    {
      "cell_type": "code",
      "metadata": {
        "colab": {
          "base_uri": "https://localhost:8080/"
        },
        "id": "Mv_hKayps-wr",
        "outputId": "7f2ca1be-25ef-4d2a-bc75-e47f627c0a4d"
      },
      "source": [
        "#Logistic Regression\n",
        "\n",
        "from sklearn.linear_model import LogisticRegression\n",
        "\n",
        "logReg = LogisticRegression()\n",
        "logReg.fit(X_train, Y_train)\n",
        "\n",
        "Y_pred = logReg.predict(X_test)\n",
        "print(Y_test, Y_pred)"
      ],
      "execution_count": 6,
      "outputs": [
        {
          "output_type": "stream",
          "text": [
            "[3 2 2 2 1 3 1 2 2 3 5 2 1 2 1 1 1 1 2 2 2 1 5 2 3 7 3 2 1 1 2 1 1 3 7 7 1\n",
            " 6 2 2 1 2 1] [1 5 2 2 1 1 2 2 2 2 7 2 1 2 1 1 2 1 2 1 2 2 2 2 2 7 2 1 1 1 1 1 1 1 7 7 2\n",
            " 2 5 2 2 2 1]\n"
          ],
          "name": "stdout"
        },
        {
          "output_type": "stream",
          "text": [
            "/usr/local/lib/python3.7/dist-packages/sklearn/linear_model/_logistic.py:940: ConvergenceWarning: lbfgs failed to converge (status=1):\n",
            "STOP: TOTAL NO. of ITERATIONS REACHED LIMIT.\n",
            "\n",
            "Increase the number of iterations (max_iter) or scale the data as shown in:\n",
            "    https://scikit-learn.org/stable/modules/preprocessing.html\n",
            "Please also refer to the documentation for alternative solver options:\n",
            "    https://scikit-learn.org/stable/modules/linear_model.html#logistic-regression\n",
            "  extra_warning_msg=_LOGISTIC_SOLVER_CONVERGENCE_MSG)\n"
          ],
          "name": "stderr"
        }
      ]
    },
    {
      "cell_type": "code",
      "metadata": {
        "colab": {
          "base_uri": "https://localhost:8080/"
        },
        "id": "5lHwmKiXtBmq",
        "outputId": "042a42cb-7832-4d0e-ae1f-0038c1ade42c"
      },
      "source": [
        "from sklearn.metrics import  confusion_matrix, accuracy_score, precision_score, recall_score\n",
        "\n",
        "print(\"Confusion Matrix:\\n\", confusion_matrix(Y_test, Y_pred))\n",
        "print(\"Accuracy:\\n\", accuracy_score(Y_test, Y_pred)) \n",
        "print(\"Precision:\\n\", precision_score(Y_test, Y_pred, average=None))\n",
        "print(\"Recall:\\n\", recall_score(Y_test, Y_pred, average = None))"
      ],
      "execution_count": 7,
      "outputs": [
        {
          "output_type": "stream",
          "text": [
            "Confusion Matrix:\n",
            " [[10  5  0  0  0  0]\n",
            " [ 3 11  0  2  0  0]\n",
            " [ 3  3  0  0  0  0]\n",
            " [ 0  1  0  0  0  1]\n",
            " [ 0  1  0  0  0  0]\n",
            " [ 0  0  0  0  0  3]]\n",
            "Accuracy:\n",
            " 0.5581395348837209\n",
            "Precision:\n",
            " [0.625      0.52380952 0.         0.         0.         0.75      ]\n",
            "Recall:\n",
            " [0.66666667 0.6875     0.         0.         0.         1.        ]\n"
          ],
          "name": "stdout"
        },
        {
          "output_type": "stream",
          "text": [
            "/usr/local/lib/python3.7/dist-packages/sklearn/metrics/_classification.py:1272: UndefinedMetricWarning: Precision is ill-defined and being set to 0.0 in labels with no predicted samples. Use `zero_division` parameter to control this behavior.\n",
            "  _warn_prf(average, modifier, msg_start, len(result))\n"
          ],
          "name": "stderr"
        }
      ]
    },
    {
      "cell_type": "code",
      "metadata": {
        "colab": {
          "base_uri": "https://localhost:8080/"
        },
        "id": "3l4p76P2tEpO",
        "outputId": "47079489-0d83-4364-c292-b8251bc600f7"
      },
      "source": [
        "#KNN Classifier\n",
        "\n",
        "from sklearn.neighbors import KNeighborsClassifier\n",
        "knn = KNeighborsClassifier()\n",
        "knn.fit(X_train, Y_train)\n",
        "\n",
        "Y_pred_knn = knn.predict(X_test)\n",
        "\n",
        "print(\"Confusion Matrix:\\n\", confusion_matrix(Y_test, Y_pred_knn))\n",
        "print(\"Accuracy:\\n\", accuracy_score(Y_test, Y_pred_knn)) "
      ],
      "execution_count": 8,
      "outputs": [
        {
          "output_type": "stream",
          "text": [
            "Confusion Matrix:\n",
            " [[13  2  0  0  0  0]\n",
            " [ 4 12  0  0  0  0]\n",
            " [ 6  0  0  0  0  0]\n",
            " [ 0  2  0  0  0  0]\n",
            " [ 0  0  0  0  1  0]\n",
            " [ 0  0  0  0  0  3]]\n",
            "Accuracy:\n",
            " 0.6744186046511628\n"
          ],
          "name": "stdout"
        }
      ]
    },
    {
      "cell_type": "code",
      "metadata": {
        "colab": {
          "base_uri": "https://localhost:8080/"
        },
        "id": "fiFUt_6itE_s",
        "outputId": "9a7ee111-1142-47e1-ea30-48f0b9757047"
      },
      "source": [
        "#Decision Tree\n",
        "from sklearn.tree import DecisionTreeClassifier\n",
        "\n",
        "dtc= DecisionTreeClassifier()\n",
        "dtc.fit(X_train, Y_train)\n",
        "\n",
        "Y_pred_dtc = dtc.predict(X_test)\n",
        "\n",
        "print(\"Confusion Matrix:\\n\", confusion_matrix(Y_test, Y_pred_dtc))\n",
        "print(\"Accuracy:\\n\", accuracy_score(Y_test, Y_pred_dtc)) "
      ],
      "execution_count": 9,
      "outputs": [
        {
          "output_type": "stream",
          "text": [
            "Confusion Matrix:\n",
            " [[10  2  1  0  1  1]\n",
            " [ 3 12  0  0  0  1]\n",
            " [ 2  1  3  0  0  0]\n",
            " [ 0  0  0  1  0  1]\n",
            " [ 0  0  0  0  1  0]\n",
            " [ 0  0  0  0  0  3]]\n",
            "Accuracy:\n",
            " 0.6976744186046512\n"
          ],
          "name": "stdout"
        }
      ]
    },
    {
      "cell_type": "code",
      "metadata": {
        "colab": {
          "base_uri": "https://localhost:8080/"
        },
        "id": "_5cwNM_etFT-",
        "outputId": "ca1df82f-2e39-4e2e-b325-4da34b1e65d8"
      },
      "source": [
        "#Random Forest\n",
        "from sklearn.ensemble import RandomForestClassifier\n",
        "\n",
        "rfc = RandomForestClassifier()\n",
        "rfc.fit(X_train, Y_train)\n",
        "\n",
        "Y_pred_rfc = rfc.predict(X_test)\n",
        "\n",
        "print(\"Confusion Matrix:\\n\", confusion_matrix(Y_test, Y_pred_rfc))\n",
        "print(\"Accuracy:\\n\", accuracy_score(Y_test, Y_pred_rfc))"
      ],
      "execution_count": 10,
      "outputs": [
        {
          "output_type": "stream",
          "text": [
            "Confusion Matrix:\n",
            " [[13  2  0  0  0  0]\n",
            " [ 1 14  0  0  0  1]\n",
            " [ 3  3  0  0  0  0]\n",
            " [ 0  1  0  0  0  1]\n",
            " [ 0  0  0  0  1  0]\n",
            " [ 0  0  0  0  0  3]]\n",
            "Accuracy:\n",
            " 0.7209302325581395\n"
          ],
          "name": "stdout"
        }
      ]
    }
  ]
}