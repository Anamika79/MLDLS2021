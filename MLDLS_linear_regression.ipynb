{
  "nbformat": 4,
  "nbformat_minor": 0,
  "metadata": {
    "colab": {
      "name": "MLDLS_linear_regression.ipynb",
      "provenance": [],
      "collapsed_sections": [],
      "authorship_tag": "ABX9TyPYjShA1vlkQXSObhEJGQ/s",
      "include_colab_link": true
    },
    "kernelspec": {
      "name": "python3",
      "display_name": "Python 3"
    },
    "language_info": {
      "name": "python"
    }
  },
  "cells": [
    {
      "cell_type": "markdown",
      "metadata": {
        "id": "view-in-github",
        "colab_type": "text"
      },
      "source": [
        "<a href=\"https://colab.research.google.com/github/Anamika79/MLDLS2021/blob/main/MLDLS_linear_regression.ipynb\" target=\"_parent\"><img src=\"https://colab.research.google.com/assets/colab-badge.svg\" alt=\"Open In Colab\"/></a>"
      ]
    },
    {
      "cell_type": "code",
      "metadata": {
        "id": "NYC_cTz4DTN2"
      },
      "source": [
        "import numpy as np\n",
        "import pandas as pd\n",
        "import matplotlib.pyplot as plt"
      ],
      "execution_count": 10,
      "outputs": []
    },
    {
      "cell_type": "code",
      "metadata": {
        "colab": {
          "base_uri": "https://localhost:8080/"
        },
        "id": "ztf_EXO7DZY9",
        "outputId": "49443309-5bca-402b-93cd-88f194324fad"
      },
      "source": [
        "dataset = pd.read_csv('insurance.csv')\n",
        "print(dataset)"
      ],
      "execution_count": 11,
      "outputs": [
        {
          "output_type": "stream",
          "text": [
            "      age      charges\n",
            "0      19  16884.92400\n",
            "1      18   1725.55230\n",
            "2      28   4449.46200\n",
            "3      33  21984.47061\n",
            "4      32   3866.85520\n",
            "...   ...          ...\n",
            "1333   50  10600.54830\n",
            "1334   18   2205.98080\n",
            "1335   18   1629.83350\n",
            "1336   21   2007.94500\n",
            "1337   61  29141.36030\n",
            "\n",
            "[1338 rows x 2 columns]\n"
          ],
          "name": "stdout"
        }
      ]
    },
    {
      "cell_type": "code",
      "metadata": {
        "colab": {
          "base_uri": "https://localhost:8080/"
        },
        "id": "Y1r3gbqZDrHP",
        "outputId": "6855dceb-0d52-4d8e-caa6-ada75c5cd500"
      },
      "source": [
        "x = dataset.iloc[:,:-1]\n",
        "y = dataset.iloc[:,-1]\n",
        "print(x)\n",
        "print(y)"
      ],
      "execution_count": 12,
      "outputs": [
        {
          "output_type": "stream",
          "text": [
            "      age\n",
            "0      19\n",
            "1      18\n",
            "2      28\n",
            "3      33\n",
            "4      32\n",
            "...   ...\n",
            "1333   50\n",
            "1334   18\n",
            "1335   18\n",
            "1336   21\n",
            "1337   61\n",
            "\n",
            "[1338 rows x 1 columns]\n",
            "0       16884.92400\n",
            "1        1725.55230\n",
            "2        4449.46200\n",
            "3       21984.47061\n",
            "4        3866.85520\n",
            "           ...     \n",
            "1333    10600.54830\n",
            "1334     2205.98080\n",
            "1335     1629.83350\n",
            "1336     2007.94500\n",
            "1337    29141.36030\n",
            "Name: charges, Length: 1338, dtype: float64\n"
          ],
          "name": "stdout"
        }
      ]
    },
    {
      "cell_type": "code",
      "metadata": {
        "colab": {
          "base_uri": "https://localhost:8080/",
          "height": 312
        },
        "id": "eFIwSPiVEeXJ",
        "outputId": "0c4089bc-866a-496f-c9d4-cefcaa28977c"
      },
      "source": [
        "plt.xlabel('age')\n",
        "plt.ylabel('charges')\n",
        "plt.title('age vs. charges')\n",
        "plt.scatter(x,y,color='red',marker='*')"
      ],
      "execution_count": 13,
      "outputs": [
        {
          "output_type": "execute_result",
          "data": {
            "text/plain": [
              "<matplotlib.collections.PathCollection at 0x7f5f1b594490>"
            ]
          },
          "metadata": {
            "tags": []
          },
          "execution_count": 13
        },
        {
          "output_type": "display_data",
          "data": {
            "image/png": "[encoded data removed]",
            "text/plain": [
              "<Figure size 432x288 with 1 Axes>"
            ]
          },
          "metadata": {
            "tags": [],
            "needs_background": "light"
          }
        }
      ]
    },
    {
      "cell_type": "code",
      "metadata": {
        "colab": {
          "base_uri": "https://localhost:8080/"
        },
        "id": "WxcJJHHNFMvB",
        "outputId": "fee5836f-546b-4446-cb5d-4ab971424f5b"
      },
      "source": [
        "from sklearn.model_selection import train_test_split\n",
        "x_train,x_test,y_train,y_test = train_test_split(x,y,test_size=0.3)\n",
        "print(x_train.shape,x_test.shape)"
      ],
      "execution_count": 14,
      "outputs": [
        {
          "output_type": "stream",
          "text": [
            "(936, 1) (402, 1)\n"
          ],
          "name": "stdout"
        }
      ]
    },
    {
      "cell_type": "code",
      "metadata": {
        "colab": {
          "base_uri": "https://localhost:8080/"
        },
        "id": "hxa52e2GFjYU",
        "outputId": "37c9a4e8-47bf-47c9-841c-20d93162423c"
      },
      "source": [
        "from sklearn.linear_model import LinearRegression\n",
        "model = LinearRegression()\n",
        "model.fit(x_train,y_train)"
      ],
      "execution_count": 15,
      "outputs": [
        {
          "output_type": "execute_result",
          "data": {
            "text/plain": [
              "LinearRegression(copy_X=True, fit_intercept=True, n_jobs=None, normalize=False)"
            ]
          },
          "metadata": {
            "tags": []
          },
          "execution_count": 15
        }
      ]
    },
    {
      "cell_type": "code",
      "metadata": {
        "id": "OY5sfWyyHXXi"
      },
      "source": [
        "y_pred = model.predict(x_test)"
      ],
      "execution_count": 16,
      "outputs": []
    },
    {
      "cell_type": "code",
      "metadata": {
        "colab": {
          "base_uri": "https://localhost:8080/"
        },
        "id": "K7mOXnlSH7_h",
        "outputId": "730ec922-0591-4f2c-a4ad-090693f991a5"
      },
      "source": [
        "accuracy = model.score(x_test,y_test)\n",
        "print(accuracy)"
      ],
      "execution_count": 17,
      "outputs": [
        {
          "output_type": "stream",
          "text": [
            "0.048101874422219026\n"
          ],
          "name": "stdout"
        }
      ]
    },
    {
      "cell_type": "code",
      "metadata": {
        "colab": {
          "base_uri": "https://localhost:8080/",
          "height": 573
        },
        "id": "pSa0SGjFIU_j",
        "outputId": "6cdce99e-c381-4c68-8cde-2262ca615f62"
      },
      "source": [
        "plt.scatter(x_train,y_train,color='red',marker='+')\n",
        "plt.xlabel('age')\n",
        "plt.ylabel('charges')\n",
        "plt.title('age vs. charges (Training Set)')\n",
        "plt.plot(x_train, model.predict(x_train), color='blue')\n",
        "plt.show()\n",
        "\n",
        "plt.scatter(x_test,y_test,color='red',marker='+')\n",
        "plt.xlabel('age')\n",
        "plt.ylabel('charges')\n",
        "plt.title('age vs. charges (Test Set)')\n",
        "plt.plot(x_test, model.predict(x_test), color='blue')\n",
        "plt.show()"
      ],
      "execution_count": 18,
      "outputs": [
        {
          "output_type": "display_data",
          "data": {
            "image/png": "[encoded data removed]",
            "text/plain": [
              "<Figure size 432x288 with 1 Axes>"
            ]
          },
          "metadata": {
            "tags": [],
            "needs_background": "light"
          }
        },
        {
          "output_type": "display_data",
          "data": {
            "image/png": "[encoded data removed]",
            "text/plain": [
              "<Figure size 432x288 with 1 Axes>"
            ]
          },
          "metadata": {
            "tags": [],
            "needs_background": "light"
          }
        }
      ]
    },
    {
      "cell_type": "code",
      "metadata": {
        "colab": {
          "base_uri": "https://localhost:8080/"
        },
        "id": "eiq-nh-oI16O",
        "outputId": "a25e17ec-a3d8-4feb-a906-a47e99e43626"
      },
      "source": [
        "test_data = np.array([[32]])\n",
        "test_pred = model.predict(test_data)\n",
        "print(test_pred)"
      ],
      "execution_count": 19,
      "outputs": [
        {
          "output_type": "stream",
          "text": [
            "[11217.42884186]\n"
          ],
          "name": "stdout"
        }
      ]
    },
    {
      "cell_type": "code",
      "metadata": {
        "colab": {
          "base_uri": "https://localhost:8080/"
        },
        "id": "D91l1p5bJLaL",
        "outputId": "49b984e1-b4b9-4582-c03e-75f794a8111f"
      },
      "source": [
        "age = int(input(\"What is the age?\"))\n",
        "charges = model.predict(np.array([[age]]))\n",
        "print('Estimated charge is '+str(charges[0]))"
      ],
      "execution_count": 21,
      "outputs": [
        {
          "output_type": "stream",
          "text": [
            "What is the age?18\n",
            "Estimated charge is 7246.958903936532\n"
          ],
          "name": "stdout"
        }
      ]
    }
  ]
}